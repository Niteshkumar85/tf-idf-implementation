{
 "cells": [
  {
   "cell_type": "markdown",
   "metadata": {
    "colab_type": "text",
    "id": "h9464I-uxLiw"
   },
   "source": [
    "# Assignment"
   ]
  },
  {
   "cell_type": "markdown",
   "metadata": {
    "colab_type": "text",
    "id": "IvLvmewlxLix"
   },
   "source": [
    "<font face='georgia'>\n",
    "    \n",
    "   <h4><strong>What does tf-idf mean?</strong></h4>\n",
    "\n",
    "   <p>    \n",
    "Tf-idf stands for <em>term frequency-inverse document frequency</em>, and the tf-idf weight is a weight often used in information retrieval and text mining. This weight is a statistical measure used to evaluate how important a word is to a document in a collection or corpus. The importance increases proportionally to the number of times a word appears in the document but is offset by the frequency of the word in the corpus. Variations of the tf-idf weighting scheme are often used by search engines as a central tool in scoring and ranking a document's relevance given a user query.\n",
    "</p>\n",
    "    \n",
    "   <p>\n",
    "One of the simplest ranking functions is computed by summing the tf-idf for each query term; many more sophisticated ranking functions are variants of this simple model.\n",
    "</p>\n",
    "    \n",
    "   <p>\n",
    "Tf-idf can be successfully used for stop-words filtering in various subject fields including text summarization and classification.\n",
    "</p>\n",
    "    \n",
    "</font>"
   ]
  },
  {
   "cell_type": "markdown",
   "metadata": {
    "colab_type": "text",
    "id": "4XLaGFUMxLiy"
   },
   "source": [
    "<font face='georgia'>\n",
    "    <h4><strong>How to Compute:</strong></h4>\n",
    "\n",
    "Typically, the tf-idf weight is composed by two terms: the first computes the normalized Term Frequency (TF), aka. the number of times a word appears in a document, divided by the total number of words in that document; the second term is the Inverse Document Frequency (IDF), computed as the logarithm of the number of the documents in the corpus divided by the number of documents where the specific term appears.\n",
    "\n",
    " <ul>\n",
    "    <li>\n",
    "<strong>TF:</strong> Term Frequency, which measures how frequently a term occurs in a document. Since every document is different in length, it is possible that a term would appear much more times in long documents than shorter ones. Thus, the term frequency is often divided by the document length (aka. the total number of terms in the document) as a way of normalization: <br>\n",
    "\n",
    "$TF(t) = \\frac{\\text{Number of times term t appears in a document}}{\\text{Total number of terms in the document}}.$\n",
    "</li>\n",
    "<li>\n",
    "<strong>IDF:</strong> Inverse Document Frequency, which measures how important a term is. While computing TF, all terms are considered equally important. However it is known that certain terms, such as \"is\", \"of\", and \"that\", may appear a lot of times but have little importance. Thus we need to weigh down the frequent terms while scale up the rare ones, by computing the following: <br>\n",
    "\n",
    "$IDF(t) = \\log_{e}\\frac{\\text{Total  number of documents}} {\\text{Number of documents with term t in it}}.$\n",
    "for numerical stabiltiy we will be changing this formula little bit\n",
    "$IDF(t) = \\log_{e}\\frac{\\text{Total  number of documents}} {\\text{Number of documents with term t in it}+1}.$\n",
    "</li>\n",
    "</ul>\n",
    "\n",
    "<br>\n",
    "<h4><strong>Example</strong></h4>\n",
    "<p>\n",
    "\n",
    "Consider a document containing 100 words wherein the word cat appears 3 times. The term frequency (i.e., tf) for cat is then (3 / 100) = 0.03. Now, assume we have 10 million documents and the word cat appears in one thousand of these. Then, the inverse document frequency (i.e., idf) is calculated as log(10,000,000 / 1,000) = 4. Thus, the Tf-idf weight is the product of these quantities: 0.03 * 4 = 0.12.\n",
    "</p>\n",
    "</font>"
   ]
  },
  {
   "cell_type": "markdown",
   "metadata": {
    "colab_type": "text",
    "id": "dg2ooa4DxLiz"
   },
   "source": [
    "## Task-1"
   ]
  },
  {
   "cell_type": "markdown",
   "metadata": {
    "colab_type": "text",
    "id": "TAcTjhO8xLiz"
   },
   "source": [
    "<font face='georgia'>\n",
    "    <h4><strong>1. Build a TFIDF Vectorizer & compare its results with Sklearn:</strong></h4>\n",
    "\n",
    "<ul>\n",
    "    <li> As a part of this task you will be implementing TFIDF vectorizer on a collection of text documents.</li>\n",
    "    <br>\n",
    "    <li> You should compare the results of your own implementation of TFIDF vectorizer with that of sklearns implemenation TFIDF vectorizer.</li>\n",
    "    <br>\n",
    "    <li> Sklearn does few more tweaks in the implementation of its version of TFIDF vectorizer, so to replicate the exact results you would need to add following things to your custom implementation of tfidf vectorizer:\n",
    "       <ol>\n",
    "        <li> Sklearn has its vocabulary generated from idf sroted in alphabetical order</li>\n",
    "        <li> Sklearn formula of idf is different from the standard textbook formula. Here the constant <strong>\"1\"</strong> is added to the numerator and denominator of the idf as if an extra document was seen containing every term in the collection exactly once, which prevents zero divisions.\n",
    "            \n",
    " $IDF(t) = 1+\\log_{e}\\frac{1\\text{ }+\\text{ Total  number of documents in collection}} {1+\\text{Number of documents with term t in it}}.$\n",
    "        </li>\n",
    "        <li> Sklearn applies L2-normalization on its output matrix.</li>\n",
    "        <li> The final output of sklearn tfidf vectorizer is a sparse matrix.</li>\n",
    "    </ol>\n",
    "    <br>\n",
    "    <li>Steps to approach this task:\n",
    "    <ol>\n",
    "        <li> You would have to write both fit and transform methods for your custom implementation of tfidf vectorizer.</li>\n",
    "        <li> Print out the alphabetically sorted voacb after you fit your data and check if its the same as that of the feature names from sklearn tfidf vectorizer. </li>\n",
    "        <li> Print out the idf values from your implementation and check if its the same as that of sklearns tfidf vectorizer idf values. </li>\n",
    "        <li> Once you get your voacb and idf values to be same as that of sklearns implementation of tfidf vectorizer, proceed to the below steps. </li>\n",
    "        <li> Make sure the output of your implementation is a sparse matrix. Before generating the final output, you need to normalize your sparse matrix using L2 normalization. You can refer to this link https://scikit-learn.org/stable/modules/generated/sklearn.preprocessing.normalize.html </li>\n",
    "        <li> After completing the above steps, print the output of your custom implementation and compare it with sklearns implementation of tfidf vectorizer.</li>\n",
    "        <li> To check the output of a single document in your collection of documents,  you can convert the sparse matrix related only to that document into dense matrix and print it.</li>\n",
    "        </ol>\n",
    "    </li>\n",
    "    <br>\n",
    "   </ul>\n",
    "\n",
    "  <p> <font color=\"#e60000\"><strong>Note-1: </strong></font> All the necessary outputs of sklearns tfidf vectorizer have been provided as reference in this notebook, you can compare your outputs as mentioned in the above steps, with these outputs.<br>\n",
    "   <font color=\"#e60000\"><strong>Note-2: </strong></font> The output of your custom implementation and that of sklearns implementation would match only with the collection of document strings provided to you as reference in this notebook. It would not match for strings that contain capital letters or punctuations, etc, because sklearn version of tfidf vectorizer deals with such strings in a different way. To know further details about how sklearn tfidf vectorizer works with such string, you can always refer to its official documentation.<br>\n",
    "   <font color=\"#e60000\"><strong>Note-3: </strong></font> During this task, it would be helpful for you to debug the code you write with print statements wherever necessary. But when you are finally submitting the assignment, make sure your code is readable and try not to print things which are not part of this task.\n",
    "    </p>"
   ]
  },
  {
   "cell_type": "markdown",
   "metadata": {
    "colab_type": "text",
    "id": "OnV82tg1xLi0"
   },
   "source": [
    "### Corpus"
   ]
  },
  {
   "cell_type": "code",
   "execution_count": 1,
   "metadata": {
    "colab": {},
    "colab_type": "code",
    "id": "bUsYm9wjxLi1"
   },
   "outputs": [],
   "source": [
    "## SkLearn# Collection of string documents\n",
    "\n",
    "corpus = [\n",
    "     'this is the first document',\n",
    "     'this document is the second document',\n",
    "     'and this is the third one',\n",
    "     'is this the first document',\n",
    "]"
   ]
  },
  {
   "cell_type": "markdown",
   "metadata": {
    "colab_type": "text",
    "id": "eLwmFZfKxLi4"
   },
   "source": [
    "### SkLearn Implementation"
   ]
  },
  {
   "cell_type": "code",
   "execution_count": 2,
   "metadata": {
    "colab": {},
    "colab_type": "code",
    "id": "Np4dfQOkxLi4"
   },
   "outputs": [],
   "source": [
    "from sklearn.feature_extraction.text import TfidfVectorizer\n",
    "vectorizer = TfidfVectorizer()\n",
    "vectorizer.fit(corpus)\n",
    "skl_output = vectorizer.transform(corpus)"
   ]
  },
  {
   "cell_type": "code",
   "execution_count": 111,
   "metadata": {
    "colab": {},
    "colab_type": "code",
    "id": "-7Om8YpYxLi6",
    "outputId": "0a3bd0f5-4424-4400-944f-4482a80bd799"
   },
   "outputs": [
    {
     "name": "stdout",
     "output_type": "stream",
     "text": [
      "['and', 'document', 'first', 'is', 'one', 'second', 'the', 'third', 'this']\n"
     ]
    }
   ],
   "source": [
    "# sklearn feature names, they are sorted in alphabetic order by default.\n",
    "\n",
    "print(vectorizer.get_feature_names())"
   ]
  },
  {
   "cell_type": "code",
   "execution_count": 112,
   "metadata": {
    "colab": {},
    "colab_type": "code",
    "id": "dTKplK96xLi-",
    "outputId": "53722fa2-6756-4aa0-f179-37b578bb6890"
   },
   "outputs": [
    {
     "name": "stdout",
     "output_type": "stream",
     "text": [
      "[1.91629073 1.22314355 1.51082562 1.         1.91629073 1.91629073\n",
      " 1.         1.91629073 1.        ]\n"
     ]
    }
   ],
   "source": [
    "# Here we will print the sklearn tfidf vectorizer idf values after applying the fit method\n",
    "# After using the fit function on the corpus the vocab has 9 words in it, and each has its idf value.\n",
    "\n",
    "print(vectorizer.idf_)"
   ]
  },
  {
   "cell_type": "code",
   "execution_count": 113,
   "metadata": {
    "colab": {},
    "colab_type": "code",
    "id": "-CTiWHygxLjA",
    "outputId": "8d5a9cde-2c29-4afe-f7b4-1547e88dba4f"
   },
   "outputs": [
    {
     "data": {
      "text/plain": [
       "(4, 9)"
      ]
     },
     "execution_count": 113,
     "metadata": {},
     "output_type": "execute_result"
    }
   ],
   "source": [
    "# shape of sklearn tfidf vectorizer output after applying transform method.\n",
    "\n",
    "skl_output.shape"
   ]
  },
  {
   "cell_type": "code",
   "execution_count": 114,
   "metadata": {
    "colab": {},
    "colab_type": "code",
    "id": "bDKEpbA-xLjD",
    "outputId": "87dafd65-5313-443f-8c6e-1b05cc8c2543"
   },
   "outputs": [
    {
     "name": "stdout",
     "output_type": "stream",
     "text": [
      "  (0, 8)\t0.38408524091481483\n",
      "  (0, 6)\t0.38408524091481483\n",
      "  (0, 3)\t0.38408524091481483\n",
      "  (0, 2)\t0.5802858236844359\n",
      "  (0, 1)\t0.46979138557992045\n"
     ]
    }
   ],
   "source": [
    "# sklearn tfidf values for first line of the above corpus.\n",
    "# Here the output is a sparse matrix\n",
    "\n",
    "print(skl_output[0])"
   ]
  },
  {
   "cell_type": "code",
   "execution_count": 115,
   "metadata": {
    "colab": {},
    "colab_type": "code",
    "id": "3QWo34hexLjF",
    "outputId": "cdc04e08-989f-4bdc-dd7f-f1c82a9f90be"
   },
   "outputs": [
    {
     "name": "stdout",
     "output_type": "stream",
     "text": [
      "[[0.         0.46979139 0.58028582 0.38408524 0.         0.\n",
      "  0.38408524 0.         0.38408524]]\n"
     ]
    }
   ],
   "source": [
    "# sklearn tfidf values for first line of the above corpus.\n",
    "# To understand the output better, here we are converting the sparse output matrix to dense matrix and printing it.\n",
    "# Notice that this output is normalized using L2 normalization. sklearn does this by default.\n",
    "\n",
    "print(skl_output[0].toarray())"
   ]
  },
  {
   "cell_type": "markdown",
   "metadata": {
    "colab_type": "text",
    "id": "qfIwx5LzxLjI"
   },
   "source": [
    "### Your custom implementation"
   ]
  },
  {
   "cell_type": "code",
   "execution_count": 3,
   "metadata": {
    "colab": {},
    "colab_type": "code",
    "id": "HjuCcJwXxLjJ"
   },
   "outputs": [],
   "source": [
    "# Write your code here.\n",
    "# Make sure its well documented and readble with appropriate comments.\n",
    "# Compare your results with the above sklearn tfidf vectorizer\n",
    "# You are not supposed to use any other library apart from the ones given below\n",
    "\n",
    "from collections import Counter\n",
    "from tqdm import tqdm\n",
    "from scipy.sparse import csr_matrix\n",
    "import math\n",
    "import operator\n",
    "from sklearn.preprocessing import normalize \n",
    "import numpy as np"
   ]
  },
  {
   "cell_type": "code",
   "execution_count": 117,
   "metadata": {},
   "outputs": [],
   "source": [
    "# Here we are defining a function IDF whose parameter are corpus and unique_words.\n",
    "\n",
    "def IDF(corpus, unique_words):\n",
    "    idf_dict = {}\n",
    "    N = len(corpus)\n",
    "    for i in unique_words:\n",
    "        count = 0\n",
    "        for sen in corpus:\n",
    "            if i in sen.split():\n",
    "                count += 1\n",
    "            idf_dict[i] = (math.log((1 + N) / (count + 1))) + 1 # here we are adding 1 in numerator and denominator\n",
    "                                                    # because to avoid error like value can't be divided by zeroo\n",
    "    return idf_dict "
   ]
  },
  {
   "cell_type": "code",
   "execution_count": 118,
   "metadata": {},
   "outputs": [],
   "source": [
    "#Here we are declaring unique_words as set ( because set has a property tat it does not include any dduplicate value in it)\n",
    "def fit(whole_data):\n",
    "    \n",
    "    unique_words = set()\n",
    "    \n",
    "    if isinstance(whole_data, (list)):\n",
    "        \n",
    "        for x in whole_data:\n",
    "            \n",
    "            for y in x.split():\n",
    "                if len(y) < 2:\n",
    "                    \n",
    "                    continue\n",
    "                    \n",
    "                unique_words.add(y)\n",
    "                \n",
    "        unique_words = sorted(list(unique_words))\n",
    "        \n",
    "        vocab = {j:i for i,j in enumerate(unique_words)}\n",
    "        Idf = IDF(whole_data,unique_words)\n",
    "        \n",
    "    return vocab, Idf\n",
    "\n",
    "Vocabulary, idf = fit(corpus) "
   ]
  },
  {
   "cell_type": "code",
   "execution_count": 119,
   "metadata": {},
   "outputs": [
    {
     "name": "stdout",
     "output_type": "stream",
     "text": [
      "['and', 'document', 'first', 'is', 'one', 'second', 'the', 'third', 'this']\n"
     ]
    }
   ],
   "source": [
    "print(list(Vocabulary.keys())) "
   ]
  },
  {
   "cell_type": "code",
   "execution_count": 120,
   "metadata": {},
   "outputs": [
    {
     "name": "stdout",
     "output_type": "stream",
     "text": [
      "[1.916290731874155, 1.2231435513142097, 1.5108256237659907, 1.0, 1.916290731874155, 1.916290731874155, 1.0, 1.916290731874155, 1.0]\n"
     ]
    }
   ],
   "source": [
    "print(list(idf.values()))"
   ]
  },
  {
   "cell_type": "code",
   "execution_count": 125,
   "metadata": {},
   "outputs": [],
   "source": [
    "def transform(dataset,vocabulary,idf_values): \n",
    "    \n",
    "    sparse_matrix= csr_matrix( (len(dataset), len(vocabulary)), dtype = np.float64)\n",
    "    \n",
    "    for row  in range(0,len(dataset)):\n",
    "        \n",
    "        word_frequenccy = Counter(dataset[row].split())\n",
    "        \n",
    "        for word in dataset[row].split():\n",
    "            \n",
    "            if word in  list(vocabulary.keys()):\n",
    "                \n",
    "                tf_idf_value=(word_frequenccy[word] / len(dataset[row].split())) * (idf[word])\n",
    "                \n",
    "                sparse_matrix[row,vocabulary[word]] = tf_idf_value\n",
    "                \n",
    "    print(normalize(sparse_matrix, norm = 'l2', axis = 1, copy = True, return_norm = False))\n",
    "    \n",
    "    output = normalize(sparse_matrix, norm = 'l2', axis = 1, copy = True, return_norm = False)\n",
    "    \n",
    "    return output\n"
   ]
  },
  {
   "cell_type": "code",
   "execution_count": 126,
   "metadata": {
    "scrolled": true
   },
   "outputs": [
    {
     "name": "stdout",
     "output_type": "stream",
     "text": [
      "  (0, 1)\t0.4697913855799205\n",
      "  (0, 2)\t0.580285823684436\n",
      "  (0, 3)\t0.3840852409148149\n",
      "  (0, 6)\t0.3840852409148149\n",
      "  (0, 8)\t0.3840852409148149\n",
      "  (1, 1)\t0.6876235979836937\n",
      "  (1, 3)\t0.2810886740337529\n",
      "  (1, 5)\t0.5386476208856762\n",
      "  (1, 6)\t0.2810886740337529\n",
      "  (1, 8)\t0.2810886740337529\n",
      "  (2, 0)\t0.511848512707169\n",
      "  (2, 3)\t0.267103787642168\n",
      "  (2, 4)\t0.511848512707169\n",
      "  (2, 6)\t0.267103787642168\n",
      "  (2, 7)\t0.511848512707169\n",
      "  (2, 8)\t0.267103787642168\n",
      "  (3, 1)\t0.4697913855799205\n",
      "  (3, 2)\t0.580285823684436\n",
      "  (3, 3)\t0.3840852409148149\n",
      "  (3, 6)\t0.3840852409148149\n",
      "  (3, 8)\t0.3840852409148149\n"
     ]
    }
   ],
   "source": [
    "tf_idf = transform(corpus,Vocabulary,idf)"
   ]
  },
  {
   "cell_type": "code",
   "execution_count": 123,
   "metadata": {},
   "outputs": [
    {
     "name": "stdout",
     "output_type": "stream",
     "text": [
      "(4, 9)\n"
     ]
    }
   ],
   "source": [
    "print(tf_idf.shape)"
   ]
  },
  {
   "cell_type": "code",
   "execution_count": 124,
   "metadata": {},
   "outputs": [
    {
     "name": "stdout",
     "output_type": "stream",
     "text": [
      "[[0.         0.46979139 0.58028582 0.38408524 0.         0.\n",
      "  0.38408524 0.         0.38408524]]\n"
     ]
    }
   ],
   "source": [
    "print(tf_idf[0].toarray())"
   ]
  },
  {
   "cell_type": "markdown",
   "metadata": {
    "colab_type": "text",
    "id": "MMxBmVZExLjK"
   },
   "source": [
    "## Task-2"
   ]
  },
  {
   "cell_type": "markdown",
   "metadata": {
    "colab_type": "text",
    "id": "51j_OtqAxLjL"
   },
   "source": [
    "<font face='georgia'>\n",
    "    <h4><strong>2. Implement max features functionality:</strong></h4>\n",
    "\n",
    "<ul>\n",
    "    <li> As a part of this task you have to modify your fit and transform functions so that your vocab will contain only 50 terms with top idf scores.</li>\n",
    "    <br>\n",
    "    <li>This task is similar to your previous task, just that here your vocabulary is limited to only top 50 features names based on their idf values. Basically your output will have exactly 50 columns and the number of rows will depend on the number of documents you have in your corpus.</li>\n",
    "    <br>\n",
    "    <li>Here you will be give a pickle file, with file name <strong>cleaned_strings</strong>. You would have to load the corpus from this file and use it as input to your tfidf vectorizer.</li>\n",
    "    <br>\n",
    "    <li>Steps to approach this task:\n",
    "    <ol>\n",
    "        <li> You would have to write both fit and transform methods for your custom implementation of tfidf vectorizer, just like in the previous task. Additionally, here you have to limit the number of features generated to 50 as described above.</li>\n",
    "        <li> Now sort your vocab based in descending order of idf values and print out the words in the sorted voacb after you fit your data. Here you should be getting only 50 terms in your vocab. And make sure to print idf values for each term in your vocab. </li>\n",
    "        <li> Make sure the output of your implementation is a sparse matrix. Before generating the final output, you need to normalize your sparse matrix using L2 normalization. You can refer to this link https://scikit-learn.org/stable/modules/generated/sklearn.preprocessing.normalize.html </li>\n",
    "        <li> Now check the output of a single document in your collection of documents,  you can convert the sparse matrix related only to that document into dense matrix and print it. And this dense matrix should contain 1 row and 50 columns. </li>\n",
    "        </ol>\n",
    "    </li>\n",
    "    <br>\n",
    "   </ul>"
   ]
  },
  {
   "cell_type": "code",
   "execution_count": 2,
   "metadata": {
    "colab": {},
    "colab_type": "code",
    "id": "NHxPLlwNxLjL",
    "outputId": "9abd8e08-0e24-4975-9a13-4d3636d60323"
   },
   "outputs": [
    {
     "name": "stdout",
     "output_type": "stream",
     "text": [
      "Number of documents in corpus =  746\n"
     ]
    }
   ],
   "source": [
    "# Below is the code to load the cleaned_strings pickle file provided\n",
    "# Here corpus is of list type\n",
    "\n",
    "import pickle\n",
    "with open('cleaned_strings', 'rb') as f:\n",
    "    corpus = pickle.load(f)\n",
    "    \n",
    "# printing the length of the corpus loaded\n",
    "print(\"Number of documents in corpus = \",len(corpus))"
   ]
  },
  {
   "cell_type": "code",
   "execution_count": 4,
   "metadata": {
    "colab": {},
    "colab_type": "code",
    "id": "ZULfoOIdxLjQ"
   },
   "outputs": [],
   "source": [
    "# Write your code here.\n",
    "# Try not to hardcode any values.\n",
    "# Make sure its well documented and readble with appropriate comments."
   ]
  },
  {
   "cell_type": "code",
   "execution_count": 4,
   "metadata": {},
   "outputs": [],
   "source": [
    "# Here we are defining a function IDF whose parameter are corpus and unique_words.\n",
    "\n",
    "def IDF(corpus, unique_words):\n",
    "    idf_dict={}\n",
    "    N=len(corpus)\n",
    "    for i in unique_words:\n",
    "        count=0\n",
    "        for sen in corpus:\n",
    "            if i in sen.split():\n",
    "                count=count+1\n",
    "            idf_dict[i]=(math.log((1+N)/(count+1)))+1 # here we are adding 1 in numerator and denominator\n",
    "                                                    # because to avoid error like value can't be divided by zeroo\n",
    "    return idf_dict "
   ]
  },
  {
   "cell_type": "code",
   "execution_count": 5,
   "metadata": {},
   "outputs": [],
   "source": [
    "#Here we are declaring unique_words as set ( because set has a property tat it does not include any dduplicate value in it)\n",
    "def fit(whole_data):\n",
    "    \n",
    "    unique_words = set()\n",
    "    \n",
    "    if isinstance(whole_data, (list)):\n",
    "        \n",
    "        for x in whole_data:\n",
    "            \n",
    "            for y in x.split():\n",
    "                if len(y) < 2:\n",
    "                    \n",
    "                    continue\n",
    "                    \n",
    "                unique_words.add(y)\n",
    "                \n",
    "        unique_words = list(unique_words)\n",
    "        \n",
    "        vocab = {j:i for i,j in enumerate(unique_words)}\n",
    "        Idf = IDF(sorted(whole_data),unique_words)\n",
    "        \n",
    "    return vocab, Idf\n",
    "\n",
    "Vocabulary, idf = fit(corpus) "
   ]
  },
  {
   "cell_type": "code",
   "execution_count": 6,
   "metadata": {},
   "outputs": [
    {
     "data": {
      "text/plain": [
       "array([6.922918, 6.922918, 6.922918, 6.922918, 6.922918, 6.922918,\n",
       "       6.922918, 6.922918, 6.922918, 6.922918, 6.922918, 6.922918,\n",
       "       6.922918, 6.922918, 6.922918, 6.922918, 6.922918, 6.922918,\n",
       "       6.922918, 6.922918, 6.922918, 6.922918, 6.922918, 6.922918,\n",
       "       6.922918, 6.922918, 6.922918, 6.922918, 6.922918, 6.922918,\n",
       "       6.922918, 6.922918, 6.922918, 6.922918, 6.922918, 6.922918,\n",
       "       6.922918, 6.922918, 6.922918, 6.922918, 6.922918, 6.922918,\n",
       "       6.922918, 6.922918, 6.922918, 6.922918, 6.922918, 6.922918,\n",
       "       6.922918, 6.922918])"
      ]
     },
     "execution_count": 6,
     "metadata": {},
     "output_type": "execute_result"
    }
   ],
   "source": [
    "sorted_values = np.argsort(list(idf.values()))\n",
    "np.array(list(idf.values()))[sorted_values][-50:]"
   ]
  },
  {
   "cell_type": "code",
   "execution_count": 7,
   "metadata": {},
   "outputs": [],
   "source": [
    "vocab = np.array(list(idf.keys()))[sorted_values][-50:]"
   ]
  },
  {
   "cell_type": "code",
   "execution_count": 8,
   "metadata": {},
   "outputs": [
    {
     "data": {
      "text/plain": [
       "array(['operas', 'maker', 'repeated', 'completed', 'theatre', 'estevez',\n",
       "       'despised', 'proudly', 'schilling', 'guilt', 'nevsky', 'boss',\n",
       "       'choice', 'product', 'court', 'tired', 'sits', 'developments',\n",
       "       'stealing', 'distant', 'la', 'detailing', 'howdy', 'breaking',\n",
       "       'audio', 'captain', 'modest', 'effort', 'loosely', 'existent',\n",
       "       'peculiarity', 'mindblowing', 'political', 'poler', 'outward',\n",
       "       'thick', 'shallow', 'suck', 'nicola', 'avoided', 'win',\n",
       "       'bendingly', 'dustin', 'instant', 'rolls', 'nurse', 'california',\n",
       "       'poignant', 'mirrormask', 'intoning'], dtype='<U16')"
      ]
     },
     "execution_count": 8,
     "metadata": {},
     "output_type": "execute_result"
    }
   ],
   "source": [
    "vocab"
   ]
  },
  {
   "cell_type": "code",
   "execution_count": 9,
   "metadata": {
    "scrolled": true
   },
   "outputs": [
    {
     "name": "stdout",
     "output_type": "stream",
     "text": [
      "['betty', 'cartoons', 'wish', 'olivia', 'poorly', 'whites', 'lifetime', 'japanese', 'describe', 'subverting', 'explain', 'odd', 'overt', 'commands', 'gadget', 'jerry', 'death', 'summary', 'murdering', 'jokes', 'thanks', 'film', 'pulling', 'dodge', 'amusing', 'debut', 'fairly', 'street', 'chalkboard', 'lies', 'uses', 'swords', 'horrible', 'chance', 'bob', 'cannot', 'geek', 'began', 'planned', 'park', 'famed', 'dysfunction', 'possible', 'lange', 'sequences', 'horrendous', 'pi', 'virtue', 'less', 'basically', 'steve', 'humor', 'highly', 'disturbing', 'tuneful', 'road', 'lucio', 'round', 'mickey', 'pure', 'emoting', 'particular', 'appropriate', 'pixar', 'together', 'student', 'screenwriter', 'continually', 'succeeds', 'girolamo', 'hummh', 'get', 'momentum', 'admins', 'thread', 'northern', 'array', 'miner', 'appalling', 'incomprehensible', 'free', 'macbeth', 'integral', 'backdrop', 'includes', 'frances', 'photograph', 'appealing', 'receive', 'wife', 'trek', 'actress', 'concert', 'rickman', 'dull', 'radiant', 'directing', 'destroy', 'delivering', 'disgrace', 'existential', 'duris', 'disney', 'greatest', 'morons', 'nimoy', 'forth', 'villains', 'filmography', 'adrift', 'situation', 'secondary', 'vampire', 'overly', 'point', 'imperial', 'tongue', 'anita', 'fox', 'emotionally', 'credits', 'enjoyed', 'paid', 'worst', 'trouble', 'continuation', 'four', 'speak', 'tract', 'joins', 'warn', 'popular', 'hopefully', 'labute', 'etc', 'unless', 'ever', 'anguish', 'foreigner', 'youtube', 'america', 'italian', 'recent', 'girl', 'indictment', 'lazy', 'mystifying', 'stoic', 'angles', 'intrigued', 'insipid', 'murdered', 'song', 'might', 'monster', 'cheap', 'teacher', 'main', 'fascinating', 'continuously', 'tries', 'nasty', 'thought', 'teaches', 'duper', 'owed', 'issue', 'motion', 'well', 'pulls', 'humans', 'traffic', 'pledge', 'bombardments', 'sure', 'facial', 'putting', 'attempting', 'smart', 'succeeded', 'hide', 'strokes', 'brainsucking', 'everybody', 'part', 'actions', 'falsely', 'despite', 'amazingly', 'teenagers', 'empowerment', 'latin', 'pitch', 'hosting', 'noteworthy', 'loads', 'considerable', 'sorrentino', 'actor', 'sat', 'footage', 'initially', 'seat', 'disappointment', 'peaking', 'fifties', 'highlights', 'horrid', 'gung', 'unoriginal', 'ebay', 'grimes', 'looking', 'bec', 'brilliantly', 'florida', 'trysts', 'sean', 'wholesome', 'killing', 'lugosi', 'revealing', 'overdue', 'inventive', 'surely', 'incorrectness', 'channel', 'something', 'twirling', 'assistant', 'naked', 'tops', 'start', 'comes', 'tough', 'terrible', 'cheesiness', 'minutes', 'grade', 'cinematographers', 'outlandish', 'late', 'drooling', 'strong', 'buy', 'smiling', 'distinction', 'top', 'emily', 'foxx', 'greatness', 'goth', 'confidence', 'laughed', 'goremeister', 'performances', 'watched', 'leaves', 'bela', 'list', 'vulcan', 'friendship', 'rochon', 'manages', 'awful', 'happiness', 'reviewer', 'appreciate', 'visual', 'genre', 'poet', 'convincing', 'bland', 'lane', 'unethical', 'decidely', 'costs', 'pm', 'mother', 'balance', 'website', 'excruciatingly', 'casted', 'massive', 'insomniacs', 'limited', 'little', 'even', 'faultless', 'noble', 'charm', 'fantastic', 'think', 'insane', 'buildings', 'sounds', 'truth', 'layers', 'delete', 'favorite', 'make', 'kitchy', 'minute', 'charles', 'wide', 'slackers', 'none', 'stockings', 'incredibly', 'unneeded', 'baxendale', 'pacing', 'solving', 'eyes', 'suggest', 'proud', 'treat', 'conflict', 'journey', 'relationship', 'ryans', 'deserved', 'soul', 'rocks', 'hill', 'end', 'relationships', 'taxidermists', 'flaming', 'removing', 'seems', 'punish', 'robotic', 'feet', 'checking', 'impression', 'significant', 'barely', 'plot', 'problems', 'sublime', 'indeed', 'faces', 'garbo', 'study', 'gosh', 'gotten', 'sample', 'focus', 'seperate', 'huston', 'blush', 'version', 'dangerous', 'easy', 'mind', 'insulin', 'interesting', 'barking', 'flowed', 'fascination', 'widmark', 'wasted', 'yardley', 'next', 'seuss', 'novella', 'excerpts', 'mollusk', 'imaginative', 'emperor', 'intensity', 'times', 'bailey', 'guess', 'business', 'excessively', 'kill', 'raw', 'gorman', 'weaving', 'annoying', 'flaw', 'inspiration', 'restrained', 'teen', 'challenges', 'surrounding', 'roth', 'storytelling', 'several', 'youthful', 'perabo', 'unfortunate', 'native', 'president', 'clearly', 'beautifully', 'appears', 'brutal', 'hitchcock', 'makes', 'female', 'body', 'place', 'consequences', 'hackneyed', 'number', 'plus', 'ratings', 'undoubtedly', 'remaining', 'master', 'de', 'gives', 'shed', 'writer', 'taking', 'twist', 'views', 'vey', 'drago', 'built', 'rips', 'indescribably', 'say', 'agreed', 'spend', 'baaaaaad', 'biographical', 'uplifting', 'unconditional', 'drifting', 'backed', 'cold', 'lacked', 'sundays', 'seeing', 'clothes', 'fire', 'supposed', 'fast', 'script', 'stanwyck', 'fails', 'identified', 'normally', 'baby', 'lyrics', 'community', 'ask', 'screened', 'crayons', 'warmth', 'spacek', 'bought', 'gibberish', 'moments', 'fair', 'omit', 'moving', 'yawn', 'anatomist', 'indication', 'verbal', 'distressed', 'sort', 'broad', 'using', 'scene', 'long', 'suited', 'burton', 'howell', 'matthews', 'series', 'turn', 'aimless', 'crayon', 'front', 'truly', 'corny', 'kristoffersen', 'music', 'subtitles', 'cruel', 'rather', 'sink', 'terror', 'remotely', 'steele', 'los', 'subversive', 'pack', 'nerves', 'expected', 'depressing', 'recurring', 'distorted', 'teddy', 'new', 'intentions', 'hair', 'perhaps', 'colored', 'hollywood', 'easily', 'school', 'video', 'unremarkable', 'exaggerating', 'villain', 'memories', 'dance', 'draft', 'war', 'cole', 'confirm', 'emerge', 'identify', 'traditional', 'apart', 'story', 'evidently', 'verbatim', 'poised', 'terrific', 'finds', 'enough', 'personalities', 'tonight', 'period', 'actually', 'cameo', 'chilly', 'whatever', 'bother', 'weak', 'reviewers', 'either', 'afternoon', 'desperately', 'particularly', 'comedy', 'starring', 'atrocious', 'disaster', 'frustration', 'cheaply', 'celluloid', 'typical', 'vivian', 'somewhat', 'documentary', 'hurt', 'sydney', 'oy', 'pencil', 'no', 'happened', 'ghibili', 'closed', 'son', 'overacting', 'cailles', 'scare', 'errol', 'crowd', 'voice', 'peter', 'collective', 'take', 'person', 'underneath', 'jaclyn', 'three', 'mirrormask', 'art', 'brooding', 'audio', 'mindblowing', 'shallow', 'suck', 'instant', 'california', 'poignant', 'disliked', 'reason', 'ortolani', 'overall', 'final', 'oriented', 'pg', 'speaking', 'malta', 'maker', 'developments', 'proudly', 'guilt', 'boss', 'home', 'unpredictable', 'ps', 'crashed', 'ue', 'cgi', 'already', 'piece', 'elsewhere', 'threshold', 'yun', 'ann', 'blare', 'act', 'speed', 'go', 'paul', 'painfully', 'touching', 'sheer', 'shortlist', 'longer', 'daughters', 'definitely', 'robert', 'bennett', 'dealt', 'gifted', 'disparate', 'memorized', 'convey', 'justice', 'adams', 'shelf', 'temperaments', 'logic', 'sing', 'lighting', 'getting', 'complex', 'usual', 'following', 'surprising', 'bonuses', 'becomes', 'owns', 'thorsen', 'standout', 'pace', 'portraying', 'smells', 'concerning', 'kids', 'captures', 'likes', 'kudos', 'characterisation', 'trooper', 'breeders', 'garage', 'references', 'serious', 'pathetic', 'sphere', 'stage', 'living', 'anything', 'accused', 'assante', 'alert', 'sense', 'ugly', 'escapism', 'purity', 'details', 'left', 'believed', 'imagine', 'tolerate', 'earlier', 'clear', 'spoil', 'length', 'belmondo', 'thriller', 'portrayal', 'hopeless', 'cg', 'keith', 'popcorn', 'low', 'savant', 'tears', 'slurs', 'laughs', 'carol', 'unrealistic', 'brother', 'chodorov', 'cheekbones', 'almost', 'word', 'pitiful', 'sounded', 'politically', 'proceedings', 'finally', 'joyce', 'slightest', 'lust', 'whoever', 'eating', 'certainly', 'kanaly', 'exploit', 'total', 'quaid', 'ago', 'pictures', 'dramatic', 'salesman', 'rita', 'vocal', 'struggle', 'meredith', 'ventura', 'wrong', 'timers', 'heist', 'players', 'disbelief', 'martin', 'sandra', 'defined', 'exceptional', 'shame', 'open', 'superbly', 'iso', 'arts', 'members', 'meanders', 'fausa', 'concentrate', 'row', 'core', 'seamless', 'within', 'beginning', 'rpger', 'christmas', 'schultz', 'unconvincing', 'homework', 'run', 'punches', 'said', 'ironically', 'hard', 'hope', 'behold', 'force', 'argued', 'child', 'reporter', 'brigand', 'extremely', 'parker', 'industry', 'stable', 'paint', 'co', 'trinity', 'exchange', 'joe', 'reactions', 'painful', 'camera', 'spy', 'question', 'aerial', 'element', 'gross', 'superb', 'bright', 'results', 'material', 'looks', 'foreign', 'improvisation', 'since', 'expert', 'loves', 'biggest', 'koteas', 'took', 'hatred', 'paolo', 'escalating', 'bond', 'thug', 'trying', 'stuart', 'phony', 'manna', 'flynn', 'plants', 'lieutenant', 'correct', 'convention', 'mark', 'imaginable', 'regret', 'producer', 'masterpiece', 'edition', 'surprisingly', 'else', 'knew', 'lovable', 'sam', 'younger', 'characters', 'offensive', 'applause', 'cinematic', 'crap', 'stereotypically', 'lot', 'learn', 'deal', 'palance', 'murder', 'system', 'social', 'drift', 'monstrous', 'puppets', 'terms', 'sex', 'recently', 'delightful', 'william', 'worthless', 'happen', 'gay', 'hairsplitting', 'shenanigans', 'hands', 'ryan', 'describes', 'changing', 'highest', 'sick', 'blown', 'process', 'uhura', 'contains', 'extraordinary', 'saw', 'shakespears', 'jean', 'unpredictability', 'scale', 'unfolds', 'directed', 'sophisticated', 'loved', 'opinion', 'going', 'cool', 'versatile', 'grasp', 'variation', 'noir', 'like', 'tortured', 'expression', 'punched', 'middle', 'rivalry', 'belly', 'sells', 'practically', 'worthwhile', 'rubbish', 'angus', 'hoffman', 'designed', 'tale', 'latched', 'latifa', 'snow', 'lid', 'cast', 'cover', 'fx', 'pretext', 'step', 'coach', 'sisters', 'slimy', 'dream', 'classical', 'shepard', 'spot', 'pleasing', 'ceases', 'enjoyable', 'holds', 'grace', 'tons', 'boyfriend', 'scripted', 'comforting', 'horse', 'race', 'gas', 'surf', 'weird', 'smoothly', 'beware', 'fishnet', 'watson', 'afraid', 'gabriel', 'understanding', 'fare', 'armand', 'heard', 'wily', 'chow', 'aye', 'cliche', 'judge', 'constant', 'twists', 'julian', 'resume', 'letting', 'ball', 'probably', 'dark', 'style', 'lie', 'whiny', 'boiling', 'machine', 'quick', 'result', 'buddy', 'another', 'blah', 'bipolarity', 'suffering', 'qualities', 'miss', 'mouth', 'hated', 'stylized', 'later', 'borders', 'crash', 'theater', 'roosevelt', 'aged', 'reviews', 'wartime', 'imdb', 'avoid', 'single', 'ive', 'silly', 'smile', 'adventure', 'creates', 'great', 'brilliance', 'direct', 'jack', 'sven', 'daughter', 'consolations', 'release', 'attention', 'train', 'public', 'would', 'shots', 'surroundings', 'sibling', 'cutting', 'site', 'least', 'overcome', 'containing', 'extraneous', 'mercy', 'adaptation', 'decisions', 'underlines', 'unmoving', 'jessice', 'prone', 'ishioka', 'inside', 'refreshing', 'heroes', 'central', 'tell', 'leave', 'americans', 'flag', 'instruments', 'effect', 'sack', 'gradually', 'builders', 'surprises', 'fresh', 'vessel', 'watchable', 'sinister', 'grim', 'frontier', 'pillow', 'freedom', 'pile', 'occur', 'harris', 'fact', 'cinematography', 'commentary', 'progresses', 'hanks', 'high', 'english', 'forwarded', 'damian', 'depth', 'allowing', 'fame', 'nevertheless', 'plmer', 'never', 'power', 'random', 'worked', 'couple', 'scares', 'strident', 'energy', 'thunderbirds', 'work', 'black', 'bring', 'man', 'book', 'pedestal', 'warts', 'borderlines', 'lassie', 'occurs', 'diving', 'rejection', 'circumstances', 'hear', 'older', 'repair', 'photography', 'hayao', 'today', 'sound', 'eye', 'tremendous', 'lacks', 'blew', 'green', 'understatement', 'sucked', 'singing', 'helping', 'remake', 'credit', 'missed', 'stick', 'served', 'patent', 'movie', 'olde', 'dumb', 'sequel', 'powerful', 'appearance', 'corn', 'considering', 'vomited', 'visually', 'sappiest', 'writing', 'setting', 'also', 'showcasing', 'documentaries', 'involving', 'undertone', 'experiences', 'lousy', 'call', 'comment', 'theatres', 'events', 'church', 'sour', 'gain', 'accurate', 'old', 'junk', 'member', 'depends', 'plenty', 'award', 'murky', 'achievement', 'hes', 'rough', 'kirk', 'ed', 'cheerfull', 'uninteresting', 'two', 'fest', 'build', 'bohemian', 'wouldnt', 'spew', 'offer', 'badly', 'effects', 'bore', 'note', 'animated', 'got', 'tomorrow', 'anyway', 'tanks', 'impact', 'linear', 'needlessly', 'white', 'made', 'big', 'forgettable', 'hand', 'woven', 'bat', 'predict', 'deserving', 'hip', 'expectations', 'eccleston', 'pandering', 'latest', 'worry', 'punishment', 'conrad', 'donlevy', 'unrecommended', 'places', 'brevity', 'check', 'jessica', 'aspect', 'seamlessly', 'tension', 'scamp', 'alongside', 'themes', 'enjoyment', 'revere', 'sublimely', 'joke', 'darren', 'told', 'emptiness', 'shooting', 'jones', 'hence', 'junkyard', 'medical', 'par', 'redeemed', 'nonsense', 'skilled', 'steamboat', 'touch', 'believable', 'wilkinson', 'obsessed', 'fifteen', 'silent', 'puppet', 'brings', 'relations', 'stand', 'unique', 'wow', 'strives', 'unfaithful', 'stratus', 'expansive', 'amount', 'conceptually', 'primary', 'pray', 'taken', 'although', 'whine', 'nor', 'deadpan', 'watkins', 'merit', 'bully', 'whole', 'astronaut', 'trash', 'muppets', 'waste', 'friends', 'flaws', 'hearts', 'depending', 'jay', 'must', 'guys', 'debated', 'generally', 'helps', 'explanation', 'quicker', 'retreat', 'view', 'format', 'reality', 'deep', 'barcelona', 'slow', 'nobody', 'night', 'not', 'faux', 'starlet', 'bunch', 'regardless', 'different', 'ballet', 'wih', 'curtain', 'course', 'errors', 'cords', 'clients', 'shocking', 'sensitivities', 'created', 'national', 'primal', 'function', 'lord', 'pretty', 'heche', 'issues', 'awarded', 'mesmerising', 'financial', 'admiration', 'climax', 'mchattie', 'time', 'plug', 'situations', 'nearly', 'effective', 'drag', 'happy', 'hoot', 'reasons', 'walk', 'heads', 'ten', 'success', 'zombiez', 'bates', 'nut', 'creature', 'save', 'blood', 'unbearably', 'ham', 'funny', 'blue', 'sweep', 'says', 'zillion', 'antithesis', 'meant', 'individual', 'us', 'properly', 'alike', 'brilliant', 'choked', 'establish', 'sole', 'wont', 'ben', 'fellowes', 'moral', 'eiko', 'schrader', 'desert', 'misplace', 'underlying', 'problem', 'modern', 'coherent', 'soap', 'ready', 'amazed', 'father', 'thousand', 'evinced', 'basic', 'overwrought', 'utter', 'ebola', 'lived', 'game', 'thus', 'ackerman', 'user', 'neil', 'trip', 'ending', 'evil', 'tiny', 'coastal', 'monotonous', 'gaudi', 'teeth', 'shot', 'uniqueness', 'budget', 'yet', 'indoor', 'exemplars', 'routine', 'fleshed', 'dead', 'sister', 'angelina', 'feature', 'monolog', 'liked', 'wrap', 'evokes', 'cost', 'terminology', 'movements', 'tolerable', 'squibs', 'screenplay', 'lucy', 'configuration', 'trap', 'thrillers', 'students', 'spock', 'ups', 'passed', 'trilogy', 'bergen', 'phenomenal', 'candace', 'forgetting', 'season', 'astonishingly', 'year', 'kind', 'coming', 'filmmaker', 'knows', 'sign', 'elegant', 'consider', 'pseudo', 'unforgettable', 'charismatic', 'plays', 'words', 'honest', 'ages', 'warning', 'fields', 'shut', 'austen', 'dee', 'questioning', 'instead', 'revenge', 'crocs', 'production', 'control', 'meaning', 'crowe', 'bitchy', 'kid', 'scot', 'studio', 'string', 'values', 'follow', 'received', 'politics', 'angela', 'competent', 'writers', 'tacky', 'used', 'amazing', 'tedium', 'literally', 'cat', 'famous', 'paper', 'rated', 'aailiyah', 'falls', 'lino', 'realised', 'miserable', 'chosen', 'deserves', 'seem', 'stuff', 'opening', 'subtle', 'totally', 'understand', 'light', 'drawn', 'wb', 'pleaser', 'readers', 'marine', 'notch', 'kevin', 'producers', 'originality', 'awards', 'design', 'continue', 'acclaimed', 'marred', 'emilio', 'beyond', 'valentine', 'lewis', 'monica', 'stars', 'fantasy', 'moment', 'felt', 'crazy', 'artistic', 'fi', 'qu', 'pap', 'paced', 'fans', 'philippa', 'racism', 'aside', 'insult', 'flashbacks', 'balls', 'hankies', 'chase', 'toons', 'dads', 'enhanced', 'obliged', 'excellent', 'play', 'asleep', 'rating', 'entertaining', 'laselva', 'overs', 'entire', 'faithful', 'jobs', 'leap', 'fall', 'chills', 'sea', 'became', 'crisp', 'improvement', 'motivations', 'sinking', 'watch', 'apt', 'fear', 'goalies', 'drama', 'loose', 'necklace', 'last', 'composed', 'courtroom', 'tv', 'genuine', 'taylor', 'giallo', 'found', 'sloppy', 'reenactments', 'creative', 'achille', 'short', 'sits', 'tired', 'court', 'money', 'product', 'find', 'choice', 'people', 'nevsky', 'star', 'schilling', 'crafted', 'despised', 'estevez', 'memorable', 'theatre', 'repeated', 'bad', 'operas', 'mini', 'enterprise', 'cotton', 'cruise', 'forever', 'spoilers', 'shows', 'five', 'africa', 'completed', 'stealing', 'distant', 'empty', 'la', 'levels', 'laugh', 'nurse', 'rolls', 'special', 'dustin', 'bendingly', 'win', 'avoided', 'nicola', 'mean', 'known', 'thick', 'outward', 'poler', 'political', 'cardboard', 'peculiarity', 'existent', 'loosely', 'effort', 'modest', 'captain', 'show', 'breaking', 'howdy', 'detailing', 'perfect', 'glad', 'finished', 'failed', 'grates', 'decipher', 'gone', 'lower', 'finest', 'crime', 'hilarious', 'hernandez', 'jimmy', 'waster', 'certain', 'suffered', 'balanced', 'jason', 'credible', 'thomerson', 'underwater', 'relatively', 'atrocity', 'narration', 'stewart', 'kris', 'okay', 'volcano', 'explorations', 'spoiler', 'ridiculousness', 'constructed', 'makers', 'survivors', 'french', 'doubt', 'educational', 'create', 'become', 'camp', 'difference', 'dominated', 'jennifer', 'march', 'knightley', 'plain', 'chimp', 'fill', 'supernatural', 'regrettably', 'talents', 'ireland', 'attractive', 'net', 'loyalty', 'hang', 'sucks', 'waylaid', 'charlie', 'children', 'wind', 'meld', 'campy', 'luv', 'greenstreet', 'slavic', 'original', 'costumes', 'soundtrack', 'connor', 'forces', 'fulfilling', 'camerawork', 'often', 'understated', 'care', 'bear', 'flakes', 'title', 'weaker', 'provokes', 'subplots', 'dedication', 'ray', 'neighbour', 'rice', 'iq', 'accolades', 'perplexing', 'crew', 'fully', 'mess', 'twice', 'stupidity', 'contract', 'universe', 'recover', 'leni', 'done', 'istagey', 'wild', 'blake', 'latter', 'ridiculous', 'boasts', 'role', 'best', 'value', 'groove', 'lame', 'controversy', 'cowardice', 'structure', 'stupid', 'boyle', 'add', 'artist', 'male', 'unnecessary', 'gets', 'accurately', 'every', 'locations', 'vibe', 'casting', 'realistic', 'require', 'task', 'southern', 'inexperience', 'engaging', 'may', 'kept', 'triumphed', 'anne', 'stinks', 'suspense', 'deadly', 'class', 'fundamental', 'timely', 'telephone', 'houses', 'rise', 'bonus', 'mouse', 'charming', 'lots', 'marbles', 'compelling', 'scientist', 'animals', 'hot', 'non', 'throwback', 'ordeal', 'cutie', 'applauded', 'mention', 'females', 'flick', 'identifies', 'howe', 'tickets', 'type', 'reminded', 'towards', 'playing', 'knocked', 'started', 'stinker', 'composition', 'interacting', 'stereotypes', 'lead', 'first', 'embarrassing', 'rubin', 'musician', 'coppola', 'generic', 'unemployed', 'bit', 'scenery', 'fan', 'masculinity', 'comical', 'right', 'forced', 'dribble', 'job', 'continuity', 'dozen', 'due', 'lost', 'relate', 'cheesy', 'embassy', 'marriage', 'elaborately', 'sit', 'example', 'clever', 'gloriously', 'improved', 'dr', 'hold', 'anthony', 'union', 'making', 'god', 'went', 'hay', 'numbers', 'unintentionally', 'obvious', 'edward', 'freshness', 'foolish', 'excellently', 'produced', 'killer', 'mature', 'bullock', 'relief', 'pans', 'classic', 'judging', 'generates', 'masterpieces', 'sweet', 'intense', 'close', 'pay', 'football', 'aurv', 'debits', 'wayne', 'sequence', 'irons', 'years', 'clich', 'killings', 'gere', 'post', 'along', 'believe', 'heels', 'let', 'bag', 'consistent', 'wondered', 'shameful', 'raver', 'diabetic', 'scripting', 'among', 'giovanni', 'interpretations', 'cox', 'upper', 'wrote', 'heroine', 'potted', 'gallon', 'bothersome', 'riz', 'entertained', 'woo', 'syrupy', 'marion', 'narrative', 'excuses', 'guests', 'government', 'billy', 'joy', 'incendiary', 'unwatchable', 'tranquillity', 'borrowed', 'owls', 'chemistry', 'form', 'james', 'superficial', 'timeless', 'dialogs', 'intoning', 'designer', 'garbage', 'parts', 'picked', 'dwight', 'personally', 'doomed', 'kieslowski', 'car', 'experience', 'judo', 'wasting', 'distract', 'regrettable', 'bellucci', 'former', 'doctor', 'origins', 'celebration', 'look', 'phrase', 'rescue', 'guy', 'ass', 'far', 'inspiring', 'babie', 'hollow', 'barren', 'genius', 'give', 'simplifying', 'interested', 'hockey', 'captured', 'related', 'bold', 'romantic', 'heaven', 'farce', 'june', 'gonna', 'cute', 'sometimes', 'supporting', 'endlessly', 'hbo', 'strange', 'babysitting', 'caught', 'witty', 'pretentious', 'flicks', 'stranger', 'move', 'bonding', 'side', 'freeman', 'follows', 'essence', 'general', 'zombie', 'delivered', 'jet', 'tender', 'resounding', 'walked', 'pointless', 'age', 'menace', 'sarcophage', 'custer', 'prompted', 'michael', 'store', 'blandly', 'um', 'magnificent', 'everyone', 'accessible', 'unsatisfactory', 'integration', 'feeling', 'wanted', 'shatner', 'face', 'reflected', 'change', 'editing', 'rare', 'ferry', 'derivative', 'indulgent', 'sympathetic', 'treachery', 'score', 'affleck', 'gripping', 'love', 'academy', 'shell', 'ironside', 'know', 'club', 'ground', 'portrayed', 'aspects', 'relation', 'dignity', 'kathy', 'laughable', 'tony', 'insincere', 'transcend', 'beautiful', 'roeg', 'tear', 'half', 'movies', 'directors', 'future', 'cable', 'riot', 'except', 'true', 'halfway', 'gotta', 'glasses', 'back', 'expecting', 'enjoy', 'quality', 'evaluate', 'feisty', 'galley', 'director', 'attempt', 'fingernails', 'bible', 'phantasm', 'scenes', 'pieces', 'character', 'wonderful', 'ford', 'unrestrained', 'largely', 'span', 'racial', 'way', 'convoluted', 'feelings', 'confusing', 'disappointed', 'gerardo', 'wooden', 'fabulous', 'unfortunately', 'elias', 'volatile', 'grainy', 'repertory', 'meagre', 'brief', 'havilland', 'unaccompanied', 'vision', 'want', 'implausible', 'use', 'share', 'sitcoms', 'century', 'interim', 'chasing', 'bop', 'im', 'littered', 'surprised', 'graphics', 'negulesco', 'seemed', 'diaper', 'company', 'dogs', 'frankly', 'admitted', 'roles', 'loewenhielm', 'tardis', 'impossible', 'super', 'established', 'translating', 'actors', 'positive', 'idiot', 'matrix', 'dancing', 'translate', 'handled', 'represents', 'holding', 'upa', 'thing', 'nuns', 'whether', 'abysmal', 'splendid', 'prejudice', 'titta', 'tightly', 'write', 'ineptly', 'involved', 'assaulted', 'anniversary', 'connery', 'allow', 'nice', 'unbearable', 'critic', 'redeeming', 'advise', 'dreary', 'commercial', 'promote', 'discovery', 'owned', 'considers', 'dont', 'losing', 'local', 'victor', 'affected', 'young', 'worse', 'cartoon', 'relaxing', 'physical', 'violence', 'talk', 'band', 'tremendously', 'lee', 'coal', 'goes', 'poetry', 'carrell', 'unlockable', 'south', 'keep', 'blatant', 'london', 'interview', 'austere', 'energetic', 'raging', 'weariness', 'loneliness', 'psychological', 'pleasant', 'superbad', 'wall', 'audience', 'ability', 'yes', 'timing', 'dialogue', 'awesome', 'prepared', 'everything', 'huge', 'interplay', 'sequels', 'viewing', 'entirely', 'depicted', 'incredible', 'garfield', 'dumbest', 'expect', 'childhood', 'emotions', 'level', 'legendary', 'lilt', 'nervous', 'written', 'dvd', 'researched', 'schoolers', 'aversion', 'thinking', 'range', 'suspension', 'kidnapped', 'nonetheless', 'defensemen', 'sad', 'oh', 'sobering', 'articulated', 'past', 'holes', 'around', 'thoroughly', 'slightly', 'plane', 'based', 'satanic', 'cuts', 'ussr', 'towers', 'weight', 'inconsistencies', 'unbelievable', 'yeah', 'virus', 'takes', 'spoiled', 'house', 'content', 'artiness', 'otherwise', 'washed', 'ways', 'columbo', 'interest', 'lesser', 'washing', 'boobs', 'collect', 'team', 'complexity', 'connections', 'human', 'acting', 'aired', 'lines', 'exteriors', 'mountain', 'savor', 'given', 'thoughts', 'buffalo', 'canada', 'choices', 'linda', 'talented', 'colorful', 'granted', 'underappreciated', 'amaze', 'decay', 'waitress', 'stories', 'messages', 'roller', 'morgan', 'jonah', 'maybe', 'constantine', 'en', 'executed', 'fodder', 'john', 'contributing', 'candle', 'miyazaki', 'confuses', 'works', 'ought', 'comfortable', 'honestly', 'sci', 'selections', 'nationalities', 'bertolucci', 'factory', 'unmatched', 'cinema', 'carry', 'yelps', 'lets', 'colours', 'george', 'tensions', 'heart', 'fun', 'centers', 'reconciliation', 'pyromaniac', 'cutest', 'direction', 'sand', 'di', 'horrified', 'disgusting', 'netflix', 'masterful', 'cult', 'boogeyman', 'boost', 'sentiment', 'smith', 'mansonites', 'schizophrenic', 'extant', 'hero', 'riveted', 'senior', 'hayworth', 'agree', 'alexander', 'rpg', 'small', 'ho', 'respecting', 'scrimm', 'recommend', 'oscar', 'quite', 'eighth', 'christopher', 'behind', 'looked', 'episode', 'welsh', 'charisma', 'stowe', 'ends', 'mclaglen', 'flawed', 'gore', 'acted', 'matter', 'card', 'remarkable', 'sub', 'still', 'provoking', 'solidifying', 'calls', 'angeles', 'gently', 'senses', 'girlfriend', 'conception', 'ladies', 'commented', 'discovering', 'perfectly', 'pull', 'starts', 'superlative', 'horrendously', 'trond', 'creativity', 'muddled', 'gake', 'better', 'rocked', 'conclusion', 'rendition', 'inappropriate', 'vivid', 'sets', 'offers', 'self', 'fulci', 'transfers', 'occupied', 'develop', 'begin', 'natural', 'intelligent', 'hellish', 'changes', 'dislike', 'abroad', 'ole', 'angel', 'savalas', 'mad', 'forgotten', 'spacey', 'unmitigated', 'keira', 'dollars', 'stay', 'cars', 'babbling', 'miserably', 'sensibility', 'egotism', 'heroism', 'subject', 'drawings', 'hugo', 'vehicles', 'jutland', 'ended', 'space', 'chick', 'embarrassed', 'directorial', 'bordered', 'accents', 'sleep', 'television', 'minor', 'state', 'fine', 'horror', 'nostalgia', 'ticker', 'hours', 'contrast', 'repeating', 'considered', 'irritating', 'drive', 'exquisite', 'treatments', 'exactly', 'bechard', 'suggests', 'solid', 'try', 'notable', 'semi', 'patriotism', 'predictably', 'scripts', 'ones', 'head', 'reasonable', 'coaster', 'films', 'quinn', 'underacting', 'screamy', 'bored', 'explosion', 'released', 'screen', 'however', 'finale', 'sites', 'fisted', 'anyone', 'rent', 'help', 'versus', 'artless', 'fanciful', 'bell', 'preservation', 'underbite', 'whatsoever', 'location', 'outside', 'melodrama', 'lance', 'glance', 'cant', 'intangibles', 'realize', 'reverse', 'mexican', 'possibly', 'contributory', 'wedding', 'unfunny', 'catchy', 'water', 'pleased', 'witticisms', 'tom', 'humorous', 'touches', 'could', 'favourite', 'worth', 'away', 'called', 'waiting', 'set', 'cross', 'limitations', 'taped', 'working', 'animation', 'come', 'stephen', 'violin', 'shakespear', 'delight', 'simply', 'brain', 'theatrical', 'scary', 'turned', 'comments', 'propaganda', 'lasting', 'nature', 'intelligence', 'funniest', 'presents', 'fat', 'desperation', 'crocdodile', 'explains', 'premise', 'player', 'adorable', 'sharply', 'days', 'filmiing', 'uneasy', 'painted', 'veteran', 'renowned', 'jim', 'critical', 'viewer', 'tone', 'edge', 'discomfort', 'naughty', 'dropped', 'enchanting', 'surface', 'games', 'dependant', 'ms', 'handles', 'fish', 'falwell', 'menacing', 'jealousy', 'lovely', 'akin', 'humour', 'rate', 'parents', 'recommended', 'innocence', 'trumbull', 'sake', 'outlets', 'need', 'ultra', 'melville', 'cliff', 'forget', 'absolutely', 'tsunami', 'girls', 'mighty', 'world', 'thumper', 'treasure', 'put', 'francis', 'trashy', 'telly', 'real', 'townsend', 'leaving', 'straw', 'dialog', 'talent', 'microsoft', 'comprehensible', 'willie', 'indie', 'partaking', 'offend', 'development', 'idyllic', 'angry', 'lilli', 'nothing', 'vomit', 'aesthetically', 'early', 'amateurish', 'deeply', 'spiffy', 'meanings', 'woa', 'haggis', 'complete', 'addition', 'second', 'barney', 'kinda', 'network', 'exceptionally', 'important', 'many', 'dreams', 'cheek', 'hell', 'contrived', 'handle', 'ranks', 'line', 'reading', 'rendering', 'box', 'awkwardly', 'entrance', 'powerhouse', 'frost', 'attempts', 'moves', 'storm', 'came', 'throughout', 'soldiers', 'grew', 'vitally', 'cases', 'cry', 'crackles', 'impressive', 'meteorite', 'really', 'professionals', 'poor', 'gem', 'puzzle', 'trumpeter', 'remember', 'cutouts', 'obviously', 'condescends', 'lives', 'vandiver', 'eloquently', 'cardellini', 'hypocrisy', 'carries', 'falling', 'sharing', 'endearing', 'stayed', 'portrayals', 'one', 'seen', 'full', 'predictable', 'secondly', 'theme', 'buffet', 'fit', 'without', 'iffy', 'jamie', 'storyline', 'sorry', 'hour', 'th', 'watching', 'thrilled', 'higher', 'precisely', 'lady', 'hate', 'presence', 'author', 'monumental', 'struck', 'dose', 'day', 'dracula', 'boring', 'filmed', 'ruthless', 'efforts', 'history', 'nun', 'torture', 'air', 'prelude', 'ursula', 'landscapes', 'akasha', 'ponyo', 'completely', 'thrown', 'slideshow', 'moved', 'mediocre', 'stagy', 'contained', 'fort', 'computer', 'cancan', 'childrens', 'voyage', 'imitation', 'added', 'stunning', 'depicts', 'nuts', 'deliver', 'damn', 'including', 'therapy', 'celebrity', 'technically', 'facing', 'wong', 'smack', 'perfected', 'managed', 'utterly', 'pearls', 'understood', 'played', 'quiet', 'atmosphere', 'elderly', 'women', 'good', 'occasionally', 'mainly', 'rumbles', 'dry', 'performance', 'life', 'things', 'cause', 'uncalled', 'shelves', 'wants', 'seriously', 'return', 'repeats', 'uptight', 'angle', 'decent', 'hollander', 'earth', 'review', 'provided', 'delights', 'idea', 'relying', 'downs', 'leading', 'american', 'allison', 'wonder', 'brat', 'retarded', 'terribly', 'previous', 'emotion', 'dimensional', 'showed', 'mistakes', 'jerky', 'much', 'science', 'sabotages', 'underrated', 'gave', 'scream', 'shirley', 'subjects', 'passion', 'stocking', 'excuse', 'family', 'skip', 'idealogical', 'frightening', 'concerns', 'running', 'someone', 'masculine', 'comedic', 'trailer', 'culture', 'sidelined', 'abandoned', 'males', 'sculpture', 'switched', 'worthy', 'bakery', 'brian', 'major', 'juano', 'snider', 'flat', 'duet', 'faster', 'ugliest', 'always', 'actresses', 'room', 'shined', 'idiotic', 'humanity', 'hendrikson', 'nine', 'mishima', 'estate', 'especially', 'hilt', 'lion', 'delivers', 'universal', 'dickens', 'negative', 'european', 'attempted', 'swamp', 'songs', 'turns', 'turkey', 'equivalent', 'taste', 'sacrifice', 'helen', 'whenever', 'giving', 'settings', 'cheerless', 'truck', 'involves', 'case', 'needed', 'impressed', 'guards', 'compromise', 'legal', 'rest', 'track', 'though', 'forgot', 'judith', 'picture', 'features', 'tying', 'average', 'hype', 'flying', 'simmering', 'broke', 'armageddon', 'abstruse', 'lestat', 'impulse', 'exciting', 'inexplicable', 'unpleasant', 'wave', 'taelons', 'sincere', 'convince', 'unrecognizable', 'amust', 'keeps', 'everywhere', 'professor', 'wise', 'fashioned', 'realized', 'pair', 'scared', 'fumbling', 'imagination', 'heartwarming', 'spent', 'others', 'enter', 'action', 'shattered', 'psychotic', 'lack', 'wonderfully', 'soon', 'practical', 'opened', 'supposedly', 'era', 'mostly', 'feel', 'sum', 'debbie', 'helms', 'wanting', 'pointillistic', 'disappointing', 'fascinated', 'produce', 'episodes', 'see']\n"
     ]
    }
   ],
   "source": [
    "print(list(Vocabulary.keys())) "
   ]
  },
  {
   "cell_type": "code",
   "execution_count": 68,
   "metadata": {
    "scrolled": true
   },
   "outputs": [
    {
     "name": "stdout",
     "output_type": "stream",
     "text": [
      "[6.922918004572872, 6.922918004572872, 6.922918004572872, 6.922918004572872, 6.517452896464707, 6.922918004572872, 6.517452896464707, 6.922918004572872, 6.922918004572872, 6.922918004572872, 6.922918004572872, 5.824305715904762, 6.006627272698717, 6.229770824012927, 6.229770824012927, 6.922918004572872, 6.922918004572872, 6.922918004572872, 6.922918004572872, 6.922918004572872, 6.922918004572872, 6.229770824012927, 6.517452896464707, 6.922918004572872, 6.922918004572872, 5.824305715904762, 6.922918004572872, 6.517452896464707, 6.922918004572872, 6.922918004572872, 6.006627272698717, 6.922918004572872, 6.922918004572872, 6.517452896464707, 6.922918004572872, 6.922918004572872, 6.922918004572872, 6.922918004572872, 6.922918004572872, 6.922918004572872, 6.922918004572872, 6.229770824012927, 6.922918004572872, 6.922918004572872, 6.922918004572872, 6.922918004572872, 6.922918004572872, 6.922918004572872, 6.922918004572872, 6.922918004572872]\n"
     ]
    }
   ],
   "source": [
    "list1 = list(idf.values())\n",
    "print(list1)"
   ]
  },
  {
   "cell_type": "code",
   "execution_count": 64,
   "metadata": {},
   "outputs": [],
   "source": [
    "def most_frequent_idf(List): \n",
    "    counter = 0\n",
    "    num = List[0] \n",
    "      \n",
    "    for i in List: \n",
    "        curr_frequency = List.count(i) \n",
    "        if(curr_frequency> counter): \n",
    "            counter = curr_frequency \n",
    "            num = i \n",
    "  \n",
    "    return num "
   ]
  },
  {
   "cell_type": "code",
   "execution_count": 65,
   "metadata": {},
   "outputs": [
    {
     "name": "stdout",
     "output_type": "stream",
     "text": [
      "6.922918004572872\n"
     ]
    }
   ],
   "source": [
    "print(most_frequent_idf(list1))"
   ]
  },
  {
   "cell_type": "code",
   "execution_count": 25,
   "metadata": {},
   "outputs": [],
   "source": [
    "def transform(dataset,vocabulary,idf_values): \n",
    "    \n",
    "    sparse_matrix= csr_matrix( (len(dataset), len(vocabulary)), dtype = np.float64)\n",
    "    \n",
    "    for row  in range(0,len(dataset)):\n",
    "        \n",
    "        word_frequenccy = Counter(dataset[row].split())\n",
    "        \n",
    "        for word in dataset[row].split():\n",
    "            \n",
    "            if word in  list(vocabulary.keys()):\n",
    "                \n",
    "                tf_idf_value=(word_frequenccy[word] / len(dataset[row].split())) * (idf_values[word])\n",
    "                \n",
    "                sparse_matrix[row,vocabulary[word]] = tf_idf_value\n",
    "                \n",
    "    print(normalize(sparse_matrix, norm='l2', axis=1, copy=True, return_norm=False))\n",
    "    \n",
    "    output =normalize(sparse_matrix, norm='l2', axis=1, copy=True, return_norm=False)\n",
    "    \n",
    "    return output\n"
   ]
  },
  {
   "cell_type": "code",
   "execution_count": 100,
   "metadata": {},
   "outputs": [
    {
     "name": "stdout",
     "output_type": "stream",
     "text": [
      "  (2, 20)\t1.0\n",
      "  (10, 36)\t1.0\n",
      "  (15, 20)\t1.0\n",
      "  (17, 20)\t1.0\n",
      "  (19, 4)\t0.44228416638446494\n",
      "  (19, 23)\t0.44228416638446494\n",
      "  (19, 24)\t0.3888574467838049\n",
      "  (19, 27)\t0.43435072489381626\n",
      "  (19, 32)\t0.5185544968430942\n",
      "  (26, 19)\t1.0\n",
      "  (28, 27)\t1.0\n",
      "  (36, 24)\t1.0\n",
      "  (41, 20)\t1.0\n",
      "  (49, 20)\t1.0\n",
      "  (56, 14)\t1.0\n",
      "  (60, 44)\t1.0\n",
      "  (62, 39)\t1.0\n",
      "  (65, 23)\t1.0\n",
      "  (68, 43)\t1.0\n",
      "  (72, 24)\t1.0\n",
      "  (86, 20)\t1.0\n",
      "  (104, 24)\t1.0\n",
      "  (134, 4)\t0.5725123494698545\n",
      "  (134, 24)\t0.503354420952802\n",
      "  (134, 47)\t0.6471969843963865\n",
      "  :\t:\n",
      "  (644, 17)\t0.28413732013555504\n",
      "  (644, 18)\t0.2674958159099919\n",
      "  (644, 20)\t0.653154850453407\n",
      "  (644, 23)\t0.21808116071527578\n",
      "  (644, 24)\t0.19173755199202497\n",
      "  (644, 49)\t0.28413732013555504\n",
      "  (649, 20)\t1.0\n",
      "  (658, 20)\t1.0\n",
      "  (660, 4)\t1.0\n",
      "  (667, 41)\t1.0\n",
      "  (669, 20)\t1.0\n",
      "  (673, 23)\t1.0\n",
      "  (688, 27)\t1.0\n",
      "  (697, 12)\t1.0\n",
      "  (706, 2)\t0.8427976632385129\n",
      "  (706, 20)\t0.53823052574125\n",
      "  (707, 24)\t1.0\n",
      "  (710, 47)\t1.0\n",
      "  (712, 27)\t1.0\n",
      "  (718, 18)\t1.0\n",
      "  (722, 20)\t0.49826415406505964\n",
      "  (722, 31)\t0.8670252780477801\n",
      "  (725, 19)\t1.0\n",
      "  (726, 26)\t1.0\n",
      "  (738, 25)\t1.0\n"
     ]
    }
   ],
   "source": [
    "tf_idf = transform(corpus,Vocabulary,idf)"
   ]
  },
  {
   "cell_type": "code",
   "execution_count": 101,
   "metadata": {},
   "outputs": [
    {
     "name": "stdout",
     "output_type": "stream",
     "text": [
      "(746, 50)\n"
     ]
    }
   ],
   "source": [
    "print(tf_idf.shape)"
   ]
  },
  {
   "cell_type": "code",
   "execution_count": 102,
   "metadata": {},
   "outputs": [
    {
     "name": "stdout",
     "output_type": "stream",
     "text": [
      "[[0. 0. 0. 0. 0. 0. 0. 0. 0. 0. 0. 0. 0. 0. 0. 0. 0. 0. 0. 0. 0. 0. 0. 0.\n",
      "  0. 0. 0. 0. 0. 0. 0. 0. 0. 0. 0. 0. 0. 0. 0. 0. 0. 0. 0. 0. 0. 0. 0. 0.\n",
      "  0. 0.]]\n"
     ]
    }
   ],
   "source": [
    "print(tf_idf[0].toarray())"
   ]
  },
  {
   "cell_type": "code",
   "execution_count": null,
   "metadata": {},
   "outputs": [],
   "source": []
  }
 ],
 "metadata": {
  "colab": {
   "collapsed_sections": [],
   "name": "Assignment_3_Instructions.ipynb",
   "provenance": []
  },
  "kernelspec": {
   "display_name": "Python 3",
   "language": "python",
   "name": "python3"
  },
  "language_info": {
   "codemirror_mode": {
    "name": "ipython",
    "version": 3
   },
   "file_extension": ".py",
   "mimetype": "text/x-python",
   "name": "python",
   "nbconvert_exporter": "python",
   "pygments_lexer": "ipython3",
   "version": "3.7.6"
  }
 },
 "nbformat": 4,
 "nbformat_minor": 1
}
